{
  "cells": [
    {
      "cell_type": "markdown",
      "id": "faf745f0",
      "metadata": {
        "id": "faf745f0"
      },
      "source": [
        "<H1>Data Science Tools and Ecosystem<H1>"
      ]
    },
    {
      "cell_type": "markdown",
      "source": [
        "In this notebook, Data Science Tools and Ecosystem are summarized."
      ],
      "metadata": {
        "id": "t3nZVKeV9haY"
      },
      "id": "t3nZVKeV9haY"
    },
    {
      "cell_type": "markdown",
      "source": [
        "<html>\n",
        "<body>\n",
        "<h4>Some of the popular languages that Data Scientists use are:</h4>\n",
        "        <ol>\n",
        "            <li>R</li>\n",
        "            <li>Python</li>\n",
        "            <li>SQL</li>\n",
        "            <li>Spark</li>\n",
        "        </ol>\n",
        "</body>\n",
        "</html>"
      ],
      "metadata": {
        "id": "LgIYt2hE9toR"
      },
      "id": "LgIYt2hE9toR"
    },
    {
      "cell_type": "markdown",
      "source": [
        "<html>\n",
        "<body>\n",
        "<h4>Some of the commonly used libraries used by Data Scientists include:</h4>\n",
        "        <ol>\n",
        "            <li>Pandas</li>\n",
        "            <li>Numpy</li>\n",
        "            <li>MatplotLib</li>\n",
        "            <li>Skilearn</li>\n",
        "            <li>Pyplot</li>\n",
        "            <li>OpenCV</li>\n",
        "        </ol>\n",
        "</body>\n",
        "</html>\n",
        "\n"
      ],
      "metadata": {
        "id": "yELZkvWX-W-R"
      },
      "id": "yELZkvWX-W-R"
    },
    {
      "cell_type": "markdown",
      "source": [
        "<html>\n",
        "<body>\n",
        "\n",
        "<table>\n",
        "<tr><th>Data Science Tools</th></tr>\n",
        "<tr><th>RStudio</th></tr>\n",
        "<tr><th>IBM SPSS</th></tr>\n",
        "<tr><th>Apache Spark</th></tr>\n",
        "\n",
        "</table>\n",
        "</body>\n",
        "</html>"
      ],
      "metadata": {
        "id": "A8hcDgBd-ztn"
      },
      "id": "A8hcDgBd-ztn"
    },
    {
      "cell_type": "markdown",
      "source": [
        "<h3>Below are a few examples of evaluating arithmetic expressions in Python</h3>"
      ],
      "metadata": {
        "id": "SBd-llg8AmwY"
      },
      "id": "SBd-llg8AmwY"
    },
    {
      "cell_type": "code",
      "execution_count": 1,
      "id": "c01b902a",
      "metadata": {
        "id": "c01b902a",
        "colab": {
          "base_uri": "https://localhost:8080/"
        },
        "outputId": "9649c484-dd2c-40de-8f3d-33702b5bb78c"
      },
      "outputs": [
        {
          "output_type": "stream",
          "name": "stdout",
          "text": [
            "17\n"
          ]
        }
      ],
      "source": [
        "a= (3*4)+5\n",
        "print(a)"
      ]
    },
    {
      "cell_type": "code",
      "execution_count": 2,
      "id": "13732add",
      "metadata": {
        "colab": {
          "base_uri": "https://localhost:8080/"
        },
        "id": "13732add",
        "outputId": "336cd582-57d9-4b7c-ca34-cab06524e827"
      },
      "outputs": [
        {
          "output_type": "stream",
          "name": "stdout",
          "text": [
            "This will convert 200 minutes to hours by diving by 60\n",
            "3.3333333333333335\n"
          ]
        }
      ],
      "source": [
        "a=200\n",
        "print('This will convert 200 minutes to hours by diving by 60')\n",
        "print (a/60)"
      ]
    },
    {
      "cell_type": "markdown",
      "id": "670b3f79",
      "metadata": {
        "id": "670b3f79"
      },
      "source": [
        "<html>\n",
        "\n",
        "<body>\n",
        "    <section>\n",
        "        <h1>Objectives:</h1>\n",
        "        <list>\n",
        "            <li>Datascience libraries</li>\n",
        "            <li>Datascience langages</li>\n",
        "            <li>Operation arithmetic</li>\n",
        "            <li>Notebook objectives</li>\n",
        "        </list>\n",
        "</body>\n",
        "</html>"
      ]
    },
    {
      "cell_type": "markdown",
      "id": "e3a92563",
      "metadata": {
        "id": "e3a92563"
      },
      "source": [
        "<h2>Author</h2>\n",
        "<b> Jittou Asmaa </b>"
      ]
    }
  ],
  "metadata": {
    "kernelspec": {
      "display_name": "Python 3 (ipykernel)",
      "language": "python",
      "name": "python3"
    },
    "language_info": {
      "codemirror_mode": {
        "name": "ipython",
        "version": 3
      },
      "file_extension": ".py",
      "mimetype": "text/x-python",
      "name": "python",
      "nbconvert_exporter": "python",
      "pygments_lexer": "ipython3",
      "version": "3.9.7"
    },
    "colab": {
      "provenance": []
    }
  },
  "nbformat": 4,
  "nbformat_minor": 5
}